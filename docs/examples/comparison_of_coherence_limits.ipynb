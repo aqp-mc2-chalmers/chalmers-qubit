{
 "cells": [
  {
   "cell_type": "markdown",
   "metadata": {},
   "source": [
    "# Comparison of coherence limits of GHZ state via compilation to two- or three-qubit gates.\n",
    "In this tutorial we are going to recreate the results from the paper https://www.nature.com/articles/s41534-023-00711-x"
   ]
  },
  {
   "cell_type": "markdown",
   "metadata": {},
   "source": [
    "**Import Packages**"
   ]
  },
  {
   "cell_type": "code",
   "execution_count": 1,
   "metadata": {},
   "outputs": [],
   "source": [
    "import numpy as np\n",
    "from qutip import tensor, basis, ket2dm, fidelity\n",
    "from qutip_qip.circuit import QubitCircuit\n",
    "from qutip_qip.operations.gates import rz\n",
    "from chalmers_qubit.sarimner import (\n",
    "    SarimnerProcessor,\n",
    "    SarimnerModel,\n",
    "    SarimnerCompiler,\n",
    "    DecoherenceNoise,\n",
    ")\n",
    "from chalmers_qubit.base.operations import project_on_qubit\n",
    "\n",
    "import warnings\n",
    "warnings.simplefilter(action=\"ignore\", category=FutureWarning)"
   ]
  },
  {
   "cell_type": "markdown",
   "metadata": {},
   "source": [
    "Create GHZ-circuit for 3 qubits: One circuit is uing th three-qubit gate, the other one is using a two-qubit gate."
   ]
  },
  {
   "cell_type": "code",
   "execution_count": 2,
   "metadata": {},
   "outputs": [],
   "source": [
    "from chalmers_qubit.base.gates import cczs\n",
    "\n",
    "def ghz_two_qubit_gate():\n",
    "    # Circuit to create GHZ-state using 2-qubit gate\n",
    "    circuit = QubitCircuit(3)\n",
    "    circuit.add_gate(\"H\", targets=0)\n",
    "    for i in range(1, 3):\n",
    "        circuit.add_gate(\"H\", targets=i)\n",
    "        circuit.add_gate(\"CZ\", controls=0, targets=i)\n",
    "        circuit.add_gate(\"H\", targets=i)\n",
    "    return circuit\n",
    "\n",
    "def ghz_three_qubit_gate():\n",
    "    # Circuit to create GHZ-state using 3-qubit gate\n",
    "    circuit = QubitCircuit(3)\n",
    "    circuit.user_gates = {\"CCZS\": cczs}\n",
    "    circuit.add_gate(\"H\", targets=0)\n",
    "    for i in range(1, 2):\n",
    "        circuit.add_gate(\"X\", targets=i)\n",
    "        circuit.add_gate(\"CCZS\", targets=[0, i, i + 1], arg_value=[np.pi / 2, 0, 0])\n",
    "        circuit.add_gate(\"X\", targets=i)\n",
    "    return circuit"
   ]
  },
  {
   "cell_type": "markdown",
   "metadata": {},
   "source": [
    "We can plot the circuits"
   ]
  },
  {
   "cell_type": "code",
   "execution_count": 3,
   "metadata": {},
   "outputs": [
    {
     "data": {
      "image/png": "[encoded data removed]",
      "text/plain": [
       "<qutip_qip.circuit.circuit.QubitCircuit at 0x14f78da90>"
      ]
     },
     "execution_count": 3,
     "metadata": {},
     "output_type": "execute_result"
    }
   ],
   "source": [
    "ghz_two_qubit_gate()"
   ]
  },
  {
   "cell_type": "code",
   "execution_count": 4,
   "metadata": {},
   "outputs": [
    {
     "data": {
      "image/png": "[encoded data removed]",
      "text/plain": [
       "<qutip_qip.circuit.circuit.QubitCircuit at 0x14f78d070>"
      ]
     },
     "execution_count": 4,
     "metadata": {},
     "output_type": "execute_result"
    }
   ],
   "source": [
    "ghz_three_qubit_gate()"
   ]
  },
  {
   "cell_type": "markdown",
   "metadata": {},
   "source": [
    "Define three-qubit device parameters"
   ]
  },
  {
   "cell_type": "code",
   "execution_count": 5,
   "metadata": {},
   "outputs": [],
   "source": [
    "transmon_dict = {\n",
    "    0: {\"frequency\": 5.02, \"anharmonicity\": -0.3},\n",
    "    1: {\"frequency\": 5.47, \"anharmonicity\": -0.28},\n",
    "    2: {\"frequency\": 5.25, \"anharmonicity\": -0.34},\n",
    "}\n",
    "decoherence_dict = {\n",
    "    0: {\"t1\": 60e3, \"t2\": 100e3},\n",
    "    1: {\"t1\": 80e3, \"t2\": 105e3},\n",
    "    2: {\"t1\": 70e3, \"t2\": 103e3},\n",
    "}\n",
    "# Compiler options\n",
    "options = {\n",
    "    \"dt\": 0.01, # time step in (ns)\n",
    "    \"two_qubit_gate\": {\n",
    "        \"buffer_time\": 0,\n",
    "        \"rise_fall_time\": 0,\n",
    "    },\n",
    "}"
   ]
  },
  {
   "cell_type": "markdown",
   "metadata": {},
   "source": [
    "Write a script to loop over different cz-gate times"
   ]
  },
  {
   "cell_type": "code",
   "execution_count": 6,
   "metadata": {},
   "outputs": [],
   "source": [
    "def run_sarimner_simulation(circuit, transmon_dict, decoherence_dict, options_dict=None):\n",
    "    # Simulation parameters\n",
    "    tlist = np.linspace(20, 200, 10)  # Times in (ns)\n",
    "    fidelities = []\n",
    "\n",
    "    for t in tlist:\n",
    "        # Calculate the corresponding coupling strength\n",
    "        g = 1 / (np.sqrt(2) * 2 * t)\n",
    "        coupling_dict = {(0, 1): g, (0, 2): -g}\n",
    "\n",
    "        # Set up the model, compiler, and processor\n",
    "        model = SarimnerModel(transmon_dict=transmon_dict, coupling_dict=coupling_dict)\n",
    "        compiler = SarimnerCompiler(model=model, options=options)\n",
    "        noise = [DecoherenceNoise(decoherence_dict=decoherence_dict)]\n",
    "        sarimner = SarimnerProcessor(model=model, compiler=compiler, noise=noise)\n",
    "\n",
    "        # Load circuit\n",
    "        sarimner.load_circuit(circuit)\n",
    "\n",
    "        # Simulate circuit\n",
    "        init_state = tensor([basis(3, 0)] * 3)\n",
    "        res = sarimner.run_state(\n",
    "            init_state=init_state, options={\"nsteps\": 1e6, \"atol\": 1e-12}\n",
    "        )\n",
    "\n",
    "        # Post-process results\n",
    "        final_state = project_on_qubit(res.states[-1])\n",
    "        qubit_state = rz(np.pi, N=3) * final_state * rz(np.pi, N=3).dag()\n",
    "\n",
    "        # Calculate fidelity\n",
    "        ideal_state = circuit.compute_unitary() * tensor([basis(2, 0)] * 3)\n",
    "        fidelities.append(fidelity(qubit_state, ideal_state))\n",
    "\n",
    "    return tlist, fidelities"
   ]
  },
  {
   "cell_type": "code",
   "execution_count": 7,
   "metadata": {},
   "outputs": [],
   "source": [
    "tlist, fidelities_2 = run_sarimner_simulation(ghz_two_qubit_gate(), transmon_dict, decoherence_dict, options)"
   ]
  },
  {
   "cell_type": "code",
   "execution_count": 8,
   "metadata": {},
   "outputs": [],
   "source": [
    "tlist, fidelities_3 = run_sarimner_simulation(ghz_three_qubit_gate(), transmon_dict, decoherence_dict, options)"
   ]
  },
  {
   "cell_type": "code",
   "execution_count": 9,
   "metadata": {},
   "outputs": [
    {
     "data": {
      "text/plain": [
       "Text(0.5, 1.0, 'GHZ state')"
      ]
     },
     "execution_count": 9,
     "metadata": {},
     "output_type": "execute_result"
    },
    {
     "data": {
      "image/png": "[encoded data removed]",
      "text/plain": [
       "<Figure size 640x480 with 1 Axes>"
      ]
     },
     "metadata": {},
     "output_type": "display_data"
    }
   ],
   "source": [
    "import matplotlib.pyplot as plt\n",
    "\n",
    "plt.plot(tlist, (1 - np.array(fidelities_2)) * 100, \"-x\", label=\"cz\")\n",
    "plt.plot(tlist, (1 - np.array(fidelities_3)) * 100, \"-x\", label=\"cczs\")\n",
    "plt.legend()\n",
    "plt.ylabel(\"Infidelity %\")\n",
    "plt.xlabel(\"CZ-gate time (ns)\")\n",
    "plt.title(\"GHZ state\")"
   ]
  },
  {
   "cell_type": "markdown",
   "metadata": {},
   "source": [
    "If we compare this plot to Figure 5a. from the paper we see the same trend\n",
    "\n",
    "<img src=\"https://media.springernature.com/full/springer-static/image/art%3A10.1038%2Fs41534-023-00711-x/MediaObjects/41534_2023_711_Fig5_HTML.png\" alt=\"Description of the image\" width=\"50%\">"
   ]
  }
 ],
 "metadata": {
  "kernelspec": {
   "display_name": "chalmers-qubit",
   "language": "python",
   "name": "python3"
  },
  "language_info": {
   "codemirror_mode": {
    "name": "ipython",
    "version": 3
   },
   "file_extension": ".py",
   "mimetype": "text/x-python",
   "name": "python",
   "nbconvert_exporter": "python",
   "pygments_lexer": "ipython3",
   "version": "3.9.7"
  }
 },
 "nbformat": 4,
 "nbformat_minor": 2
}
