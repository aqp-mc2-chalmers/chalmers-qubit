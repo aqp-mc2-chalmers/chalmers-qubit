{
 "cells": [
  {
   "cell_type": "markdown",
   "id": "286c069b",
   "metadata": {},
   "source": [
    "# Quantum Gates"
   ]
  },
  {
   "cell_type": "code",
   "execution_count": 1,
   "id": "4b5b13ea",
   "metadata": {},
   "outputs": [],
   "source": [
    "import numpy as np\n",
    "from qutip import tensor, basis, ket2dm, average_gate_fidelity, Qobj\n",
    "from qutip_qip.circuit import QubitCircuit\n",
    "from chalmers_qubit.sarimner import *\n",
    "from chalmers_qubit.base.operations import project_on_qubit\n",
    "\n",
    "import warnings\n",
    "warnings.simplefilter(action=\"ignore\", category=FutureWarning)\n",
    "\n",
    "%load_ext autoreload\n",
    "%autoreload 2"
   ]
  },
  {
   "attachments": {},
   "cell_type": "markdown",
   "id": "4724acd4-3bde-4b60-a7d0-eca7c8309df5",
   "metadata": {},
   "source": [
    "## Single Qubit Gate Example\n",
    "We begin by creating a quantum circuit that has a single-qubit, and we perform a single-qubit gate on it"
   ]
  },
  {
   "cell_type": "code",
   "execution_count": 2,
   "id": "17907914",
   "metadata": {},
   "outputs": [],
   "source": [
    "num_qubits = 1\n",
    "circuit = QubitCircuit(num_qubits)\n",
    "circuit.add_gate(\"RX\", targets=0, arg_value=np.pi)"
   ]
  },
  {
   "cell_type": "markdown",
   "id": "9d8e1c4d",
   "metadata": {},
   "source": [
    "Next we define the hardware parameters that we will use when simulating this quantum circtuit. We therefore define a dictionary where the `key` corresponds to the qubit index and the value is another `dict` that can have the following values: \n",
    "\n",
    "- `frequency`: Qubit frequency in GHz.\n",
    "- `anharmonicity`: Qubit anharmonicity in GHz.\n",
    "\n",
    "We will also create another dict with the decoherence values for the qubit, the `key` needs to match the qubit index, and the value is another `dict` with the relaxation times\n",
    "\n",
    "- `t1`: $T_1$ of the qubit in nano seconds.\n",
    "- `t2`: $T_2$ of the qubit in nano seconds."
   ]
  },
  {
   "cell_type": "code",
   "execution_count": 3,
   "id": "c8bee55c",
   "metadata": {},
   "outputs": [],
   "source": [
    "transmon_dict = {\n",
    "    0: {\"frequency\": 5.0, \"anharmonicity\": -0.30},\n",
    "}\n",
    "decoherence_dict = {\n",
    "    0: {\"t1\": 60e3, \"t2\": 100e3},\n",
    "}"
   ]
  },
  {
   "cell_type": "markdown",
   "id": "9779c5b1",
   "metadata": {},
   "source": [
    "Next we take these hardware parameters that we have defined and we load them into our superconducting hardware model `SarimnerModel`. The `SarimnerModel` along with the `SarimnerCompiler` and `noise` are given to `SarimnerProcessor` as shown in the figure below.\n",
    "\n",
    "<div style=\"text-align: center;\">\n",
    "<img src=\"https://qutip-qip.readthedocs.io/en/stable/_images/structure.jpg\" alt=\"Description of the image\" width=\"500\" height=\"300\">\n",
    "</div>"
   ]
  },
  {
   "cell_type": "code",
   "execution_count": 4,
   "id": "9a996b86",
   "metadata": {},
   "outputs": [],
   "source": [
    "# Load the physical parameters onto the model\n",
    "model = SarimnerModel(transmon_dict=transmon_dict)\n",
    "\n",
    "# Choose compiler\n",
    "compiler = SarimnerCompiler(model=model)\n",
    "\n",
    "# Add noise\n",
    "noise = [DecoherenceNoise(decoherence_dict=decoherence_dict)]\n",
    "\n",
    "# Create the processor with the given hardware parameters\n",
    "sarimner = SarimnerProcessor(model=model, compiler=compiler, noise=noise)"
   ]
  },
  {
   "cell_type": "markdown",
   "id": "30aaf195-64fa-45e4-9fa9-afe1a45c67dc",
   "metadata": {},
   "source": [
    "Once we have defined our processor we can load the quantum circuit onto the processor. This will compile the circuit into a pulse sequence."
   ]
  },
  {
   "cell_type": "code",
   "execution_count": 5,
   "id": "06bd778a",
   "metadata": {},
   "outputs": [],
   "source": [
    "tlist, coeffs = sarimner.load_circuit(circuit)"
   ]
  },
  {
   "cell_type": "markdown",
   "id": "4c135a0e-fc38-4809-a6b5-1c5882b59930",
   "metadata": {},
   "source": [
    "We can choose to plot the pulse sequence"
   ]
  },
  {
   "cell_type": "code",
   "execution_count": 6,
   "id": "1b607b16",
   "metadata": {},
   "outputs": [
    {
     "data": {
      "image/png": "[encoded data removed]",
      "text/plain": [
       "<Figure size 600x300 with 2 Axes>"
      ]
     },
     "metadata": {},
     "output_type": "display_data"
    }
   ],
   "source": [
    "fig, ax = sarimner.plot_pulses(show_axis=True, figsize=(6,3));"
   ]
  },
  {
   "cell_type": "markdown",
   "id": "dafefa6a-e492-4c19-a065-f19ff209adbb",
   "metadata": {},
   "source": [
    "Now we can exectue this pulse sequence on the processor by using `run_state` with a given `initial state`"
   ]
  },
  {
   "cell_type": "code",
   "execution_count": 7,
   "id": "f7f5a949",
   "metadata": {},
   "outputs": [
    {
     "data": {
      "text/latex": [
       "Quantum object: dims=[[3], [3]], shape=(3, 3), type='oper', dtype=Dense, isherm=True$$\\left(\\begin{array}{cc}3.966\\times10^{ -4 } & 0.002j & 2.968\\times10^{ -8 }\\\\-0.002j & 1.000 & 3.140\\times10^{ -7 }\\\\2.968\\times10^{ -8 } & 3.140\\times10^{ -7 } & 1.327\\times10^{ -7 }\\end{array}\\right)$$"
      ],
      "text/plain": [
       "Quantum object: dims=[[3], [3]], shape=(3, 3), type='oper', dtype=Dense, isherm=True\n",
       "Qobj data =\n",
       "[[3.96554225e-04-1.98591528e-18j 2.22678190e-04+2.08808013e-03j\n",
       "  2.96776788e-08-4.78124282e-08j]\n",
       " [2.22678190e-04-2.08808013e-03j 9.99603313e-01-1.15655255e-18j\n",
       "  3.14043979e-07-5.93582604e-08j]\n",
       " [2.96776787e-08+4.78124282e-08j 3.14043979e-07+5.93582604e-08j\n",
       "  1.32725423e-07+1.73553864e-18j]]"
      ]
     },
     "execution_count": 7,
     "metadata": {},
     "output_type": "execute_result"
    }
   ],
   "source": [
    "initial_state = basis(3,0)\n",
    "result = sarimner.run_state(initial_state)\n",
    "final_state = result.states[-1]\n",
    "final_state"
   ]
  },
  {
   "cell_type": "markdown",
   "id": "3c789984-83d5-448c-b2e3-b332eeff76ce",
   "metadata": {},
   "source": [
    "Since we simulated the system for a three-level system we have to project it onto the computational subspace using the function `project_on_qubit`"
   ]
  },
  {
   "cell_type": "code",
   "execution_count": 8,
   "id": "b1c633bc-4480-47c4-a4bc-7e094fb5a09a",
   "metadata": {},
   "outputs": [
    {
     "data": {
      "text/latex": [
       "Quantum object: dims=[[2], [2]], shape=(2, 2), type='oper', dtype=Dense, isherm=True$$\\left(\\begin{array}{cc}3.966\\times10^{ -4 } & 0.002j\\\\-0.002j & 1.000\\end{array}\\right)$$"
      ],
      "text/plain": [
       "Quantum object: dims=[[2], [2]], shape=(2, 2), type='oper', dtype=Dense, isherm=True\n",
       "Qobj data =\n",
       "[[3.96554225e-04-1.98591528e-18j 2.22678190e-04+2.08808013e-03j]\n",
       " [2.22678190e-04-2.08808013e-03j 9.99603313e-01-1.15655255e-18j]]"
      ]
     },
     "execution_count": 8,
     "metadata": {},
     "output_type": "execute_result"
    }
   ],
   "source": [
    "project_on_qubit(final_state)"
   ]
  },
  {
   "cell_type": "markdown",
   "id": "2f2bc13a",
   "metadata": {},
   "source": [
    "## Two Qubit Gate Example"
   ]
  },
  {
   "cell_type": "markdown",
   "id": "0741b928",
   "metadata": {},
   "source": [
    "Next we show a simple circuit using a two-qubit `CZ`-gate and how to compile it onto our processor."
   ]
  },
  {
   "cell_type": "code",
   "execution_count": 32,
   "id": "43035491-0552-42dd-a061-dd724a241920",
   "metadata": {},
   "outputs": [],
   "source": [
    "# Define a circuit and run the simulation\n",
    "num_qubits = 2\n",
    "circuit = QubitCircuit(num_qubits)\n",
    "circuit.add_gate(\"CZ\", controls=0, targets=1)"
   ]
  },
  {
   "cell_type": "markdown",
   "id": "3230704e",
   "metadata": {},
   "source": [
    "Just as before we start by defining our hardware parameters."
   ]
  },
  {
   "cell_type": "code",
   "execution_count": 33,
   "id": "47c0280e-668a-4c09-a80e-70b13341cbce",
   "metadata": {},
   "outputs": [],
   "source": [
    "transmon_dict = {\n",
    "    0: {\"frequency\": 5.0, \"anharmonicity\": -0.30},\n",
    "    1: {\"frequency\": 5.4, \"anharmonicity\": -0.30},\n",
    "}\n",
    "decoherence_dict = {\n",
    "    0: {\"t1\": 60e3, \"t2\": 80e3},\n",
    "    1: {\"t1\": 100e3, \"t2\": 105e3},\n",
    "}"
   ]
  },
  {
   "cell_type": "markdown",
   "id": "233f815d",
   "metadata": {},
   "source": [
    "Additionally we need to supply information of how the qubits are coupled together. This is done using another dictionary, where the value is supplied as a tuple `(i,j)` defining qubit $i$ and qubit $j$ and the value is the coupling strength in GHz."
   ]
  },
  {
   "cell_type": "code",
   "execution_count": 34,
   "id": "c47a7fb0",
   "metadata": {},
   "outputs": [],
   "source": [
    "# The time for the CZ-gate that we want in (ns)\n",
    "t = 100\n",
    "\n",
    "# Corresponding coupling in (GHz)\n",
    "g = 1 / (np.sqrt(2) * 2 * t)\n",
    "\n",
    "coupling_dict = {\n",
    "    (0, 1): g,\n",
    "}"
   ]
  },
  {
   "cell_type": "markdown",
   "id": "e6ca6a1e",
   "metadata": {},
   "source": [
    "and load them onto our model"
   ]
  },
  {
   "cell_type": "code",
   "execution_count": 53,
   "id": "e42e8356",
   "metadata": {},
   "outputs": [],
   "source": [
    "# Load the physical parameters onto the model\n",
    "model = SarimnerModel(transmon_dict=transmon_dict, coupling_dict=coupling_dict)\n",
    "# Options for compiler\n",
    "options = {\n",
    "    \"dt\": 0.1, # time-step of simulator in (ns)\n",
    "    \"two_qubit_gate\": {\n",
    "        \"buffer_time\": 10, # buffer-time of two-qubit gate in (ns)\n",
    "        \"rise_fall_time\": 0, # sinusodial rise and fall time of two-qubit gate in (ns)\n",
    "    },\n",
    "}\n",
    "# Choose compiler\n",
    "compiler = SarimnerCompiler(model=model, options=options)\n",
    "# Create the processor with the given hardware parameters\n",
    "sarimner = SarimnerProcessor(model=model, compiler=compiler)"
   ]
  },
  {
   "cell_type": "markdown",
   "id": "310d9c5b",
   "metadata": {},
   "source": [
    "Then we can compile the circuit onto our processor"
   ]
  },
  {
   "cell_type": "code",
   "execution_count": 54,
   "id": "fc32d570-6b2e-4686-a1d9-73e6c9b64dbe",
   "metadata": {},
   "outputs": [],
   "source": [
    "tlist, coeffs = sarimner.load_circuit(circuit)"
   ]
  },
  {
   "cell_type": "code",
   "execution_count": 55,
   "id": "f9640f6f",
   "metadata": {},
   "outputs": [],
   "source": [
    "cz_real, cz_imag = coeffs[\"cz_real01\"], coeffs[\"cz_imag01\"]\n",
    "cz = np.sqrt(cz_real**2 + cz_imag**2)\n",
    "tlist_real, tlist_imag = tlist[\"cz_real01\"], tlist[\"cz_imag01\"]"
   ]
  },
  {
   "cell_type": "code",
   "execution_count": 56,
   "id": "806c6ab6",
   "metadata": {},
   "outputs": [
    {
     "data": {
      "text/plain": [
       "100.0"
      ]
     },
     "execution_count": 56,
     "metadata": {},
     "output_type": "execute_result"
    }
   ],
   "source": [
    "np.trapz(cz, tlist_real)"
   ]
  },
  {
   "cell_type": "code",
   "execution_count": null,
   "id": "4560ff81",
   "metadata": {},
   "outputs": [
    {
     "data": {
      "text/plain": [
       "{'cz_real01': array([0.000e+00, 1.000e-01, 2.000e-01, ..., 1.598e+02, 1.599e+02,\n",
       "        1.600e+02]),\n",
       " 'cz_imag01': array([0.000e+00, 1.000e-01, 2.000e-01, ..., 1.598e+02, 1.599e+02,\n",
       "        1.600e+02])}"
      ]
     },
     "execution_count": 45,
     "metadata": {},
     "output_type": "execute_result"
    }
   ],
   "source": [
    "area = np.trapz(y=cz_real, x=tlist_real) + np.trapz(y=cz_real, x=tlist_real)"
   ]
  },
  {
   "cell_type": "code",
   "execution_count": 37,
   "id": "2675f312",
   "metadata": {},
   "outputs": [
    {
     "data": {
      "image/png": "[encoded data removed]",
      "text/plain": [
       "<Figure size 600x300 with 1 Axes>"
      ]
     },
     "metadata": {},
     "output_type": "display_data"
    }
   ],
   "source": [
    "sarimner.plot_pulses(show_axis=True, figsize=(6,3));"
   ]
  },
  {
   "cell_type": "markdown",
   "id": "b78beb29",
   "metadata": {},
   "source": [
    "To see that the CZ-gate is implemented correctly we will now simulate the circuit using the master equation simulation and look at the expectation values of the $|11\\rangle$ and $|20\\rangle$ states."
   ]
  },
  {
   "cell_type": "code",
   "execution_count": 38,
   "id": "5214122a",
   "metadata": {},
   "outputs": [],
   "source": [
    "ket01 = tensor(basis(3,0), basis(3,1))\n",
    "ket10 = tensor(basis(3,1), basis(3,0))\n",
    "ket11 = tensor(basis(3,1), basis(3,1))\n",
    "ket20 = tensor(basis(3,2), basis(3,0))\n",
    "# List of operators we wanna compute the expectation value for during the simulation\n",
    "e_ops = [ket2dm(ket01), ket2dm(ket10), ket2dm(ket11), ket2dm(ket20)]\n",
    "result = sarimner.run_state(ket11, e_ops=e_ops, options={'nsteps': 1e5, 'store_final_state': True})"
   ]
  },
  {
   "cell_type": "code",
   "execution_count": 39,
   "id": "ebcd52b9",
   "metadata": {},
   "outputs": [
    {
     "data": {
      "text/plain": [
       "<matplotlib.legend.Legend at 0x312dd6df0>"
      ]
     },
     "execution_count": 39,
     "metadata": {},
     "output_type": "execute_result"
    },
    {
     "data": {
      "image/png": "[encoded data removed]",
      "text/plain": [
       "<Figure size 640x480 with 1 Axes>"
      ]
     },
     "metadata": {},
     "output_type": "display_data"
    }
   ],
   "source": [
    "import matplotlib.pyplot as plt\n",
    "plt.plot(result.times, result.expect[0], label=\"01\")\n",
    "plt.plot(result.times, result.expect[1], label=\"10\")\n",
    "plt.plot(result.times, result.expect[2], label='11')\n",
    "plt.plot(result.times, result.expect[3], label='20')\n",
    "plt.xlabel('Time (ns)')\n",
    "plt.ylabel('Population')\n",
    "plt.legend()"
   ]
  },
  {
   "cell_type": "markdown",
   "id": "76eeaeaf",
   "metadata": {},
   "source": [
    "And if we print the final state we see that the $|11\\rangle$ state has the desired $-1$ phase."
   ]
  },
  {
   "cell_type": "code",
   "execution_count": 17,
   "id": "e65f3c29",
   "metadata": {},
   "outputs": [
    {
     "data": {
      "text/latex": [
       "Quantum object: dims=[[2, 2], [1, 1]], shape=(4, 1), type='ket', dtype=Dense$$\\left(\\begin{array}{cc}0\\\\0\\\\0\\\\-1.000\\end{array}\\right)$$"
      ],
      "text/plain": [
       "Quantum object: dims=[[2, 2], [1, 1]], shape=(4, 1), type='ket', dtype=Dense\n",
       "Qobj data =\n",
       "[[ 0.        +0.j       ]\n",
       " [ 0.        +0.j       ]\n",
       " [ 0.        +0.j       ]\n",
       " [-0.99999761+0.0003081j]]"
      ]
     },
     "execution_count": 17,
     "metadata": {},
     "output_type": "execute_result"
    }
   ],
   "source": [
    "qubit_state = project_on_qubit(result.final_state)\n",
    "qubit_state"
   ]
  },
  {
   "cell_type": "markdown",
   "id": "535e1fbd",
   "metadata": {},
   "source": [
    "## Three Qubit Gate Example"
   ]
  },
  {
   "cell_type": "markdown",
   "id": "f47ce35e",
   "metadata": {},
   "source": [
    "Finally we will demonstrate the implementation of the three-qubit gate.\n",
    "\n",
    "Since this gate is not part of qutip `QubitCircuit` we have to defined the gate ourself and supply as `user_gates`"
   ]
  },
  {
   "cell_type": "code",
   "execution_count": 18,
   "id": "c7e0cf9a",
   "metadata": {},
   "outputs": [],
   "source": [
    "from qutip import Qobj\n",
    "# Ideal gate\n",
    "def cczs(args):\n",
    "    theta, phi, gamma = args\n",
    "    U = np.array([[1, 0, 0, 0, 0, 0, 0, 0],\n",
    "                  [0, 1, 0, 0, 0, 0, 0, 0],\n",
    "                  [0, 0, 1, 0, 0, 0, 0, 0],\n",
    "                  [0, 0, 0, 1, 0, 0, 0, 0],\n",
    "                  [0, 0, 0, 0, 1, 0, 0, 0],\n",
    "                  [0, 0, 0, 0, 0, -np.exp(-1j*gamma)*np.sin(theta/2)**2 + np.cos(theta/2)**2, \n",
    "                                    (1/2)*(1 + np.exp(-1j*gamma))*np.exp(-1j*phi)*np.sin(theta), 0],\n",
    "                  [0, 0, 0, 0, 0, (1/2)*(1 + np.exp(-1j*gamma))*np.exp(1j*phi)*np.sin(theta), \n",
    "                                    -np.exp(-1j*gamma)*np.cos(theta/2)**2 + np.sin(theta/2)**2, 0],\n",
    "                  [0, 0, 0, 0, 0, 0, 0, -np.exp(1j*gamma)]], dtype=\"complex\")\n",
    "    return Qobj(U, dims=[[2]*3, [2]*3])"
   ]
  },
  {
   "cell_type": "markdown",
   "id": "8d187133",
   "metadata": {},
   "source": [
    "Alternatively we can just import the gate from `chalmers_qubit.base.gates`"
   ]
  },
  {
   "cell_type": "code",
   "execution_count": 19,
   "id": "1c23d4ae",
   "metadata": {},
   "outputs": [],
   "source": [
    "from chalmers_qubit.base.gates import cczs"
   ]
  },
  {
   "cell_type": "code",
   "execution_count": 20,
   "id": "016d0fcb",
   "metadata": {},
   "outputs": [],
   "source": [
    "# Define a circuit and run the simulation\n",
    "num_qubits = 3\n",
    "\n",
    "circuit = QubitCircuit(num_qubits)\n",
    "circuit.user_gates = {\"CCZS\": cczs}\n",
    "circuit.add_gate(\"CCZS\", targets=[0,1,2], arg_value=[np.pi/2,0,0])"
   ]
  },
  {
   "cell_type": "code",
   "execution_count": 21,
   "id": "c7f1ed79",
   "metadata": {},
   "outputs": [],
   "source": [
    "transmon_dict = {\n",
    "            0: {\"frequency\": 5.0, \"anharmonicity\": 0.3},\n",
    "            1: {\"frequency\": 5.4, \"anharmonicity\": 0.3},\n",
    "            2: {\"frequency\": 5.2, \"anharmonicity\": 0.3},\n",
    "        }\n",
    "\n",
    "# Times in (ns)\n",
    "t = 100\n",
    "\n",
    "# corresponding coupling\n",
    "g = 1 / (np.sqrt(2) * 2 * t)\n",
    "\n",
    "coupling_dict = {(0, 1): g,\n",
    "                 (0, 2): -g} # for phi=0 the coupling strengths need different signs"
   ]
  },
  {
   "cell_type": "code",
   "execution_count": 22,
   "id": "20cb89ad",
   "metadata": {},
   "outputs": [],
   "source": [
    "# Load the physical parameters onto the model\n",
    "model = SarimnerModel(\n",
    "    transmon_dict=transmon_dict,\n",
    "    coupling_dict=coupling_dict\n",
    ")\n",
    "options = {\n",
    "    \"dt\": 0.1,\n",
    "    \"two_qubit_gate\": {\n",
    "        \"buffer_time\": 0,\n",
    "        \"rise_fall_time\": 0.1,\n",
    "    },\n",
    "}\n",
    "# Choose compiler\n",
    "compiler = SarimnerCompiler(model=model, options=options)\n",
    "# Create the processor with the given hardware parameters\n",
    "sarimner = SarimnerProcessor(model=model, compiler=compiler, noise=[])"
   ]
  },
  {
   "cell_type": "code",
   "execution_count": 23,
   "id": "e173b2a7",
   "metadata": {},
   "outputs": [],
   "source": [
    "tlist, coeffs = sarimner.load_circuit(circuit)"
   ]
  },
  {
   "cell_type": "code",
   "execution_count": 24,
   "id": "36a02df0",
   "metadata": {},
   "outputs": [
    {
     "data": {
      "image/png": "[encoded data removed]",
      "text/plain": [
       "<Figure size 1200x600 with 2 Axes>"
      ]
     },
     "metadata": {},
     "output_type": "display_data"
    }
   ],
   "source": [
    "sarimner.plot_pulses(show_axis=True);"
   ]
  },
  {
   "cell_type": "code",
   "execution_count": 25,
   "id": "cb1d064a",
   "metadata": {},
   "outputs": [],
   "source": [
    "ket110 = tensor([basis(3,1),basis(3,1),basis(3,0)])\n",
    "ket101 = tensor([basis(3,1),basis(3,0),basis(3,1)])\n",
    "ket200 = tensor([basis(3,2),basis(3,0),basis(3,0)])\n",
    "e_ops = [ket2dm(ket110), ket2dm(ket101), ket2dm(ket200)]\n",
    "result = sarimner.run_state(ket110, e_ops=e_ops, options={'store_states':True, 'nsteps':1e5, 'atol': 1e-12})"
   ]
  },
  {
   "cell_type": "code",
   "execution_count": 26,
   "id": "547f32e8",
   "metadata": {},
   "outputs": [
    {
     "data": {
      "text/plain": [
       "<matplotlib.legend.Legend at 0x312a374f0>"
      ]
     },
     "execution_count": 26,
     "metadata": {},
     "output_type": "execute_result"
    },
    {
     "data": {
      "image/png": "[encoded data removed]",
      "text/plain": [
       "<Figure size 640x480 with 1 Axes>"
      ]
     },
     "metadata": {},
     "output_type": "display_data"
    }
   ],
   "source": [
    "import matplotlib.pyplot as plt\n",
    "plt.plot(result.times,result.expect[0], label=\"110\")\n",
    "plt.plot(result.times,result.expect[1], label=\"101\")\n",
    "plt.plot(result.times,result.expect[2], label=\"200\")\n",
    "plt.legend()"
   ]
  },
  {
   "cell_type": "markdown",
   "id": "ea6cdd4d",
   "metadata": {},
   "source": [
    "Using the `run_propagator` method we can compute the propagator of the evolution."
   ]
  },
  {
   "cell_type": "code",
   "execution_count": 27,
   "id": "e24514c6",
   "metadata": {},
   "outputs": [
    {
     "data": {
      "text/latex": [
       "Quantum object: dims=[[2, 2, 2], [2, 2, 2]], shape=(8, 8), type='oper', dtype=Dense, isherm=False$$\\left(\\begin{array}{cc}1 & 0 & 0 & 0 & 0 & 0 & 0 & 0\\\\0 & 1 & 0 & 0 & 0 & 0 & 0 & 0\\\\0 & 0 & 1 & 0 & 0 & 0 & 0 & 0\\\\0 & 0 & 0 & 1 & 0 & 0 & 0 & 0\\\\0 & 0 & 0 & 0 & 1 & 0 & 0 & 0\\\\0 & 0 & 0 & 0 & 0 & 6.671\\times10^{ -6 } & 1.000 & 0\\\\0 & 0 & 0 & 0 & 0 & 1.000 & 6.671\\times10^{ -6 } & 0\\\\0 & 0 & 0 & 0 & 0 & 0 & 0 & -1.000\\end{array}\\right)$$"
      ],
      "text/plain": [
       "Quantum object: dims=[[2, 2, 2], [2, 2, 2]], shape=(8, 8), type='oper', dtype=Dense, isherm=False\n",
       "Qobj data =\n",
       "[[ 1.00000000e+00+0.00000000e+00j  0.00000000e+00+0.00000000e+00j\n",
       "   0.00000000e+00+0.00000000e+00j  0.00000000e+00+0.00000000e+00j\n",
       "   0.00000000e+00+0.00000000e+00j  0.00000000e+00+0.00000000e+00j\n",
       "   0.00000000e+00+0.00000000e+00j  0.00000000e+00+0.00000000e+00j]\n",
       " [ 0.00000000e+00+0.00000000e+00j  1.00000000e+00+0.00000000e+00j\n",
       "   0.00000000e+00+0.00000000e+00j  0.00000000e+00+0.00000000e+00j\n",
       "   0.00000000e+00+0.00000000e+00j  0.00000000e+00+0.00000000e+00j\n",
       "   0.00000000e+00+0.00000000e+00j  0.00000000e+00+0.00000000e+00j]\n",
       " [ 0.00000000e+00+0.00000000e+00j  0.00000000e+00+0.00000000e+00j\n",
       "   1.00000000e+00+0.00000000e+00j  0.00000000e+00+0.00000000e+00j\n",
       "   0.00000000e+00+0.00000000e+00j  0.00000000e+00+0.00000000e+00j\n",
       "   0.00000000e+00+0.00000000e+00j  0.00000000e+00+0.00000000e+00j]\n",
       " [ 0.00000000e+00+0.00000000e+00j  0.00000000e+00+0.00000000e+00j\n",
       "   0.00000000e+00+0.00000000e+00j  1.00000000e+00+0.00000000e+00j\n",
       "   0.00000000e+00+0.00000000e+00j  0.00000000e+00+0.00000000e+00j\n",
       "   0.00000000e+00+0.00000000e+00j  0.00000000e+00+0.00000000e+00j]\n",
       " [ 0.00000000e+00+0.00000000e+00j  0.00000000e+00+0.00000000e+00j\n",
       "   0.00000000e+00+0.00000000e+00j  0.00000000e+00+0.00000000e+00j\n",
       "   1.00000000e+00+0.00000000e+00j  0.00000000e+00+0.00000000e+00j\n",
       "   0.00000000e+00+0.00000000e+00j  0.00000000e+00+0.00000000e+00j]\n",
       " [ 0.00000000e+00+0.00000000e+00j  0.00000000e+00+0.00000000e+00j\n",
       "   0.00000000e+00+0.00000000e+00j  0.00000000e+00+0.00000000e+00j\n",
       "   0.00000000e+00+0.00000000e+00j  6.67127643e-06+3.41355707e-07j\n",
       "   9.99993329e-01-3.41355707e-07j  0.00000000e+00+0.00000000e+00j]\n",
       " [ 0.00000000e+00+0.00000000e+00j  0.00000000e+00+0.00000000e+00j\n",
       "   0.00000000e+00+0.00000000e+00j  0.00000000e+00+0.00000000e+00j\n",
       "   0.00000000e+00+0.00000000e+00j  9.99993329e-01-3.41355707e-07j\n",
       "   6.67127643e-06+3.41355707e-07j  0.00000000e+00+0.00000000e+00j]\n",
       " [ 0.00000000e+00+0.00000000e+00j  0.00000000e+00+0.00000000e+00j\n",
       "   0.00000000e+00+0.00000000e+00j  0.00000000e+00+0.00000000e+00j\n",
       "   0.00000000e+00+0.00000000e+00j  0.00000000e+00+0.00000000e+00j\n",
       "   0.00000000e+00+0.00000000e+00j -9.99986657e-01+6.82711414e-07j]]"
      ]
     },
     "execution_count": 27,
     "metadata": {},
     "output_type": "execute_result"
    }
   ],
   "source": [
    "prop = sarimner.run_propagator(options={\"nsteps\":1e5})\n",
    "prop = project_on_qubit(prop)\n",
    "prop"
   ]
  },
  {
   "cell_type": "markdown",
   "id": "98a68ba1",
   "metadata": {},
   "source": [
    "We can then compute the average gate fidelity between the ideal gate and the simulated gate"
   ]
  },
  {
   "cell_type": "code",
   "execution_count": 28,
   "id": "dc53ef3f",
   "metadata": {},
   "outputs": [
    {
     "data": {
      "text/plain": [
       "0.999994069986429"
      ]
     },
     "execution_count": 28,
     "metadata": {},
     "output_type": "execute_result"
    }
   ],
   "source": [
    "ideal_prop = cczs((np.pi / 2, 0, 0))\n",
    "average_gate_fidelity(ideal_prop, prop)"
   ]
  }
 ],
 "metadata": {
  "kernelspec": {
   "display_name": "chalmers-qubit",
   "language": "python",
   "name": "python3"
  },
  "language_info": {
   "codemirror_mode": {
    "name": "ipython",
    "version": 3
   },
   "file_extension": ".py",
   "mimetype": "text/x-python",
   "name": "python",
   "nbconvert_exporter": "python",
   "pygments_lexer": "ipython3",
   "version": "3.9.7"
  }
 },
 "nbformat": 4,
 "nbformat_minor": 5
}
