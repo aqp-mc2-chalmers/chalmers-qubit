{
 "cells": [
  {
   "cell_type": "markdown",
   "metadata": {},
   "source": [
    "# Randomized Benchmarking"
   ]
  },
  {
   "cell_type": "code",
   "execution_count": 1,
   "metadata": {},
   "outputs": [],
   "source": [
    "import numpy as np\n",
    "from qutip import tensor, basis, ket2dm, fidelity\n",
    "from qutip_qip.circuit import QubitCircuit\n",
    "from qutip_qip.operations.gates import rz\n",
    "from chalmers_qubit.sarimner import (\n",
    "    SarimnerProcessor,\n",
    "    SarimnerModel,\n",
    "    SarimnerCompiler,\n",
    "    DecoherenceNoise,\n",
    ")\n",
    "from chalmers_qubit.base.operations import project_on_qubit\n",
    "\n",
    "import warnings\n",
    "warnings.simplefilter(action=\"ignore\", category=FutureWarning)\n",
    "\n",
    "%load_ext autoreload\n",
    "%autoreload 2"
   ]
  },
  {
   "cell_type": "markdown",
   "metadata": {},
   "source": [
    "## Single-qubit Clifford Randomized Benchmarking"
   ]
  },
  {
   "cell_type": "markdown",
   "metadata": {},
   "source": [
    "Setup device"
   ]
  },
  {
   "cell_type": "code",
   "execution_count": 2,
   "metadata": {},
   "outputs": [],
   "source": [
    "transmon_dict = {\n",
    "    0: {\"frequency\": 5.02, \"anharmonicity\": -0.3},\n",
    "    1: {\"frequency\": 4.82, \"anharmonicity\": -0.3},\n",
    "}\n",
    "decoherence_dict = {\n",
    "    0: {\"t1\": 60e3, \"t2\": 100e3},\n",
    "    1: {\"t1\": 60e3, \"t2\": 100e3},\n",
    "}\n",
    "# Set up the model, compiler, and processor\n",
    "model = SarimnerModel(transmon_dict=transmon_dict)\n",
    "compiler = SarimnerCompiler(model=model)\n",
    "noise = [DecoherenceNoise(decoherence_dict=decoherence_dict)]\n",
    "sarimner = SarimnerProcessor(model=model, compiler=compiler, noise=noise)"
   ]
  },
  {
   "cell_type": "code",
   "execution_count": null,
   "metadata": {},
   "outputs": [
    {
     "data": {
      "text/plain": [
       "array([  177,  7860,  6830,   620, 10472,  2538,  2938,  2123,  3843,\n",
       "        2026])"
      ]
     },
     "execution_count": 6,
     "metadata": {},
     "output_type": "execute_result"
    }
   ],
   "source": [
    "from chalmers_qubit.utils import randomized_benchmarking_sequence, randomized_benchmarking_circuit\n",
    "\n",
    "# Generate the randomized benchmarking sequence\n",
    "sequence = randomized_benchmarking_sequence(\n",
    "    number_of_cliffords=10,\n",
    "    apply_inverse=True,\n",
    "    clifford_group=2,\n",
    "    seed=123,\n",
    ")\n",
    "sequence\n",
    "#circuit = randomized_benchmarking_circuit(clifford_indices=sequence, targets=0)\n",
    "#circuit"
   ]
  },
  {
   "cell_type": "markdown",
   "metadata": {},
   "source": [
    "## Loop over Sequences"
   ]
  },
  {
   "cell_type": "markdown",
   "metadata": {},
   "source": [
    "We now create the single-qubit Clifford group, using the XY-decomposition\n",
    "\n",
    "Gate decomposition decomposition of the clifford group as per [Epstein et al. Phys. Rev. A 89, 062321 (2014)](https://journals.aps.org/pra/abstract/10.1103/PhysRevA.89.062321)"
   ]
  },
  {
   "cell_type": "code",
   "execution_count": 32,
   "metadata": {},
   "outputs": [
    {
     "ename": "TypeError",
     "evalue": "'int' object is not iterable",
     "output_type": "error",
     "traceback": [
      "\u001b[0;31m---------------------------------------------------------------------------\u001b[0m",
      "\u001b[0;31mTypeError\u001b[0m                                 Traceback (most recent call last)",
      "Cell \u001b[0;32mIn[32], line 3\u001b[0m\n\u001b[1;32m      1\u001b[0m targets \u001b[38;5;241m=\u001b[39m \u001b[38;5;241m0\u001b[39m\n\u001b[0;32m----> 3\u001b[0m \u001b[38;5;28;01mfor\u001b[39;00m target \u001b[38;5;129;01min\u001b[39;00m targets:\n\u001b[1;32m      4\u001b[0m     \u001b[38;5;28mprint\u001b[39m(target)\n",
      "\u001b[0;31mTypeError\u001b[0m: 'int' object is not iterable"
     ]
    }
   ],
   "source": [
    "targets = 0\n",
    "\n",
    "for target in targets:\n",
    "    print(target)"
   ]
  },
  {
   "cell_type": "code",
   "execution_count": 13,
   "metadata": {},
   "outputs": [
    {
     "name": "stdout",
     "output_type": "stream",
     "text": [
      "Running sequence length 8\n",
      "Running sequence length 64\n",
      "Running sequence length 128\n",
      "Running sequence length 256\n",
      "Running sequence length 512\n"
     ]
    }
   ],
   "source": [
    "from chalmers_qubit.utils import randomized_benchmarking_sequence, randomized_benchmarking_circuit\n",
    "\n",
    "interleaved_clifford_idx = 16\n",
    "sequences = [8, 64, 128, 256, 512]\n",
    "sequence_fidelity = []\n",
    "interleaved_sequence_fidelity = []\n",
    "\n",
    "# Set up the model, compiler, and processor\n",
    "model = SarimnerModel(transmon_dict=transmon_dict)\n",
    "options = {\n",
    "    \"dt\": 1,  # in (ns)\n",
    "}\n",
    "compiler = SarimnerCompiler(model=model, options=options)\n",
    "noise = [DecoherenceNoise(decoherence_dict=decoherence_dict)]\n",
    "sarimner = SarimnerProcessor(model=model, compiler=compiler, noise=noise)\n",
    "\n",
    "# Loop over sequence lengths\n",
    "for m in sequences:\n",
    "    print(f\"Running sequence length {m}\")\n",
    "    \n",
    "    # Generate the randomized benchmarking sequence\n",
    "    clifford_indices = randomized_benchmarking_sequence(\n",
    "        number_of_cliffords=m,\n",
    "        apply_inverse_gate=True,\n",
    "        clifford_group=1,\n",
    "        seed=None\n",
    "    )\n",
    "\n",
    "    interleaved_clifford_indices = randomized_benchmarking_sequence(\n",
    "        number_of_cliffords=m,\n",
    "        apply_inverse_gate=True,\n",
    "        interleaved_clifford_idx=interleaved_clifford_idx,\n",
    "        clifford_group=1,\n",
    "        seed=None\n",
    "    )\n",
    "\n",
    "    # Compile clifford indices to a quantum circuit\n",
    "    rb_circuit = randomized_benchmarking_circuit(clifford_indices=clifford_indices)\n",
    "    rb_interleaved_circuit = randomized_benchmarking_circuit(clifford_indices=interleaved_clifford_indices)\n",
    "    \n",
    "    # Simulate the quantum circuit and compute the probability of remaning in the initial state\n",
    "    init_state = basis(3,0)\n",
    "    result = sarimner.run_state(init_state=init_state, qc=rb_circuit)\n",
    "    result_interleaved = sarimner.run_state(init_state=init_state, qc=rb_interleaved_circuit)\n",
    "\n",
    "    final_state = result.states[-1]\n",
    "    final_state_interleaved = result_interleaved.states[-1]\n",
    "\n",
    "    # Compute the survival probability\n",
    "    sequence_fidelity.append(fidelity(init_state, final_state))\n",
    "    interleaved_sequence_fidelity.append(fidelity(init_state, final_state_interleaved))"
   ]
  },
  {
   "cell_type": "markdown",
   "metadata": {},
   "source": [
    "### Fit the data to an exponential decay"
   ]
  },
  {
   "cell_type": "code",
   "execution_count": 23,
   "metadata": {},
   "outputs": [
    {
     "name": "stdout",
     "output_type": "stream",
     "text": [
      "A = 0.33001039796717874, p = 0.9991675911797845, B = 0.670544721711378\n",
      "A (int) = 0.27090809937912597, p (int) = 0.9983092309075736, B (int) = 0.7294415888389654\n"
     ]
    },
    {
     "data": {
      "image/png": "[encoded data removed]",
      "text/plain": [
       "<Figure size 640x480 with 1 Axes>"
      ]
     },
     "metadata": {},
     "output_type": "display_data"
    }
   ],
   "source": [
    "import numpy as np\n",
    "from scipy.optimize import curve_fit\n",
    "import matplotlib.pyplot as plt\n",
    "\n",
    "# Define the model function\n",
    "def model(m, A, p, B) -> float:\n",
    "    return A * p**m + B\n",
    "\n",
    "# Initial guess for A, p, B\n",
    "initial_guess = [1, 0.99, 0.5]\n",
    "\n",
    "# Fit the curve\n",
    "params, covariance = curve_fit(model, sequences, sequence_fidelity, p0=initial_guess)\n",
    "\n",
    "# Fit the curve\n",
    "params_interleaved, covariance_interleaved = curve_fit(model, sequences, interleaved_sequence_fidelity, p0=initial_guess)\n",
    "\n",
    "# Extract fitted parameters\n",
    "A_fit, p_fit, B_fit = params\n",
    "print(f\"A = {A_fit}, p = {p_fit}, B = {B_fit}\")\n",
    "\n",
    "A_interleaved_fit, p_interleaved_fit, B_interleaved_fit = params_interleaved\n",
    "print(f\"A (int) = {A_interleaved_fit}, p (int) = {p_interleaved_fit}, B (int) = {B_interleaved_fit}\")\n",
    "\n",
    "# Plot\n",
    "x_fit = np.linspace(min(sequences), max(sequences), 100)\n",
    "y_fit = model(x_fit, A_fit, p_fit, B_fit)\n",
    "\n",
    "y_interleaved_fit = model(x_fit, A_interleaved_fit, p_interleaved_fit, B_interleaved_fit)\n",
    "\n",
    "plt.scatter(sequences, sequence_fidelity, label=\"RB\")\n",
    "plt.scatter(sequences, interleaved_sequence_fidelity, label=\"Interleaved RB\")\n",
    "plt.plot(x_fit, y_fit, label=\"RB Fit\", color='red', linestyle='--')\n",
    "plt.plot(x_fit, y_interleaved_fit, label=\"Interleaved Fit\", color='red')\n",
    "plt.legend()\n",
    "plt.xlabel(\"Number of Cliffords (m)\")\n",
    "plt.ylabel(\"Survival Probability\")\n",
    "plt.title(\"Single Clifford Randomized Benchmarking\")\n",
    "plt.xticks(sequences)\n",
    "plt.show()\n"
   ]
  },
  {
   "cell_type": "code",
   "execution_count": 71,
   "metadata": {},
   "outputs": [
    {
     "data": {
      "text/plain": [
       "0.002575080844858224"
      ]
     },
     "execution_count": 71,
     "metadata": {},
     "output_type": "execute_result"
    }
   ],
   "source": [
    "# Calculate average error per Clifford\n",
    "d = 2\n",
    "r_fit = (d-1)/d * (1-p_fit)\n",
    "# Calculate the average errorb per single-qubit gate\n",
    "r_sq = r_fit / 1.875\n",
    "r_sq"
   ]
  },
  {
   "cell_type": "markdown",
   "metadata": {},
   "source": [
    "## Interleaved"
   ]
  },
  {
   "cell_type": "markdown",
   "metadata": {},
   "source": [
    "## Work in progress"
   ]
  },
  {
   "cell_type": "code",
   "execution_count": 126,
   "metadata": {},
   "outputs": [
    {
     "name": "stdout",
     "output_type": "stream",
     "text": [
      "Average gate fidelity: 0.9999999573985212\n"
     ]
    }
   ],
   "source": [
    "from qutip import average_gate_fidelity\n",
    "from qutip_qip.circuit import QubitCircuit\n",
    "from qutip_qip.operations import RX\n",
    "from chalmers_qubit.base.operations import project_on_qubit\n",
    "\n",
    "arg_value = np.pi/2\n",
    "\n",
    "circuit = QubitCircuit(1)\n",
    "circuit.add_gate(\"RX\", targets=[0], arg_value=arg_value)\n",
    "\n",
    "# Set up the model, compiler, and processor\n",
    "model = SarimnerModel(transmon_dict=transmon_dict)\n",
    "options = {\n",
    "        \"dt\": 1,  # in (ns)\n",
    "    }\n",
    "compiler = SarimnerCompiler(model=model, options=options)\n",
    "noise = [DecoherenceNoise(decoherence_dict=decoherence_dict)]\n",
    "sarimner = SarimnerProcessor(model=model, compiler=compiler, noise=noise)\n",
    "\n",
    "# Simulate the quantum circuit and compute the probability of remaning in state |0>\n",
    "init_state = basis(3,0)\n",
    "tlist, coeffs = sarimner.load_circuit(circuit)\n",
    "result = sarimner.run_propagator(init_state=init_state, options={\"nsteps\": 1e5}, noisy=True)\n",
    "#final_prop = project_on_qubit(result)\n",
    "\n",
    "ideal_gate = RX(targets=0, arg_value=arg_value).get_compact_qobj()\n",
    "agf = average_gate_fidelity(final_prop, ideal_gate)\n",
    "print(f\"Average gate fidelity: {agf}\")\n"
   ]
  },
  {
   "cell_type": "code",
   "execution_count": 127,
   "metadata": {},
   "outputs": [],
   "source": [
    "from qutip import Qobj\n",
    "\n",
    "def modified_pauli_matrices():\n",
    "    modified_pauli = []\n",
    "    # Identity\n",
    "    modified_pauli.append(Qobj(np.array([[1, 0, 0], [0, 1, 0], [0, 0, 0]])))\n",
    "    # Sigma X\n",
    "    modified_pauli.append(Qobj(np.array([[0, 1, 0], [1, 0, 0], [0, 0, 0]])))\n",
    "    # Sigma Y\n",
    "    modified_pauli.append(Qobj(np.array([[0, -1j, 0], [1j, 0, 0], [0, 0, 0]])))\n",
    "    # Sigma Z\n",
    "    modified_pauli.append(Qobj(np.array([[1, 0, 0], [0, -1, 0], [0, 0, 0]])))\n",
    "    return modified_pauli\n",
    "\n",
    "modified_pauli = modified_pauli_matrices()"
   ]
  },
  {
   "cell_type": "code",
   "execution_count": 136,
   "metadata": {},
   "outputs": [],
   "source": [
    "def all_possible_combinations(matrices, num_qutrits):\n",
    "    if num_qutrits == 1:\n",
    "        return matrices\n",
    "    else:\n",
    "        prev_combinations = all_possible_combinations(matrices, num_qutrits - 1)\n",
    "        new_combinations = []\n",
    "        for m1 in matrices:\n",
    "            for m2 in prev_combinations:\n",
    "                new_combinations.append(tensor(m1, m2))\n",
    "        return new_combinations\n",
    "\n",
    "# Create all combinations of Paulis\n",
    "all_paulis = all_possible_combinations(modified_pauli, num_qutrits=1)"
   ]
  },
  {
   "cell_type": "code",
   "execution_count": null,
   "metadata": {},
   "outputs": [
    {
     "name": "stderr",
     "output_type": "stream",
     "text": [
      "Computing average gate fidelity: 100%|██████████| 4/4 [00:00<00:00, 155.79pauli operator/s]"
     ]
    },
    {
     "name": "stdout",
     "output_type": "stream",
     "text": [
      "Average gate fidelity 0.667\n"
     ]
    },
    {
     "name": "stderr",
     "output_type": "stream",
     "text": [
      "\n"
     ]
    }
   ],
   "source": [
    "from tqdm import tqdm\n",
    "\n",
    "arg_value = np.pi/2\n",
    "\n",
    "circuit = QubitCircuit(1)\n",
    "circuit.add_gate(\"RX\", targets=[0], arg_value=arg_value)\n",
    "\n",
    "# Compute the ideal unitary from the circuit\n",
    "U = circuit.compute_unitary()\n",
    "\n",
    "# Set up the model, compiler, and processor\n",
    "model = SarimnerModel(transmon_dict=transmon_dict)\n",
    "options = {\n",
    "        \"dt\": 1,  # in (ns)\n",
    "    }\n",
    "compiler = SarimnerCompiler(model=model, options=options)\n",
    "noise = [DecoherenceNoise(decoherence_dict=decoherence_dict)]\n",
    "sarimner = SarimnerProcessor(model=model, compiler=compiler, noise=noise)\n",
    "\n",
    "tlist, coeffs = sarimner.load_circuit(circuit)\n",
    "\n",
    "# average gate fidelity\n",
    "F = 0\n",
    "# compute the average gate fidelity\n",
    "for pauli in tqdm(all_paulis, desc=\"Computing average gate fidelity\", unit=\"pauli operator\"):\n",
    "    # Run master equation simulation\n",
    "    result = sarimner.run_state(pauli)\n",
    "    # Project the modified Pauli onto the qubit subspace\n",
    "    P = project_on_qubit(pauli)\n",
    "    # Project the final state onto the qubit subspace\n",
    "    M = project_on_qubit(result.states[-1])\n",
    "    # Sum up the measurements to get the avg gate fid\n",
    "    F += ((U*P.dag()*U.dag()*M).tr())\n",
    "\n",
    "avg_gate_fid = ((F+d**2)/(d**2*(d+1))).real\n",
    "print(\"Average gate fidelity\",round(avg_gate_fid,3))\n"
   ]
  },
  {
   "cell_type": "markdown",
   "metadata": {},
   "source": [
    "## Interleaved RB"
   ]
  },
  {
   "cell_type": "code",
   "execution_count": 87,
   "metadata": {},
   "outputs": [],
   "source": [
    "from qutip import to_super\n",
    "rx = to_super(ideal_gate)"
   ]
  },
  {
   "cell_type": "markdown",
   "metadata": {},
   "source": []
  }
 ],
 "metadata": {
  "kernelspec": {
   "display_name": "chalmers-qubit",
   "language": "python",
   "name": "python3"
  },
  "language_info": {
   "codemirror_mode": {
    "name": "ipython",
    "version": 3
   },
   "file_extension": ".py",
   "mimetype": "text/x-python",
   "name": "python",
   "nbconvert_exporter": "python",
   "pygments_lexer": "ipython3",
   "version": "3.9.7"
  }
 },
 "nbformat": 4,
 "nbformat_minor": 2
}
