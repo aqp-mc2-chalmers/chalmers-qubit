{
 "cells": [
  {
   "cell_type": "markdown",
   "metadata": {},
   "source": [
    "# Randomized Benchmarking"
   ]
  },
  {
   "cell_type": "code",
   "execution_count": 2,
   "metadata": {},
   "outputs": [],
   "source": [
    "import numpy as np\n",
    "from qutip import tensor, basis, ket2dm, fidelity\n",
    "from qutip_qip.circuit import QubitCircuit\n",
    "from qutip_qip.operations.gates import rz\n",
    "from chalmers_qubit.sarimner import (\n",
    "    SarimnerProcessor,\n",
    "    SarimnerModel,\n",
    "    SarimnerCompiler,\n",
    "    DecoherenceNoise,\n",
    ")\n",
    "from chalmers_qubit.base.operations import project_on_qubit\n",
    "\n",
    "import warnings\n",
    "warnings.simplefilter(action=\"ignore\", category=FutureWarning)"
   ]
  },
  {
   "cell_type": "markdown",
   "metadata": {},
   "source": [
    "## Single-qubit Clifford Randomized Benchmarking"
   ]
  },
  {
   "cell_type": "markdown",
   "metadata": {},
   "source": [
    "Setup device"
   ]
  },
  {
   "cell_type": "code",
   "execution_count": 5,
   "metadata": {},
   "outputs": [],
   "source": [
    "transmon_dict = {\n",
    "    0: {\"frequency\": 5.02, \"anharmonicity\": -0.3},\n",
    "}\n",
    "decoherence_dict = {\n",
    "    0: {\"t1\": 60e3, \"t2\": 100e3},\n",
    "}\n",
    "# Set up the model, compiler, and processor\n",
    "model = SarimnerModel(transmon_dict=transmon_dict)\n",
    "compiler = SarimnerCompiler(model=model)\n",
    "noise = [DecoherenceNoise(decoherence_dict=decoherence_dict)]\n",
    "sarimner = SarimnerProcessor(model=model, compiler=compiler, noise=noise)"
   ]
  },
  {
   "cell_type": "markdown",
   "metadata": {},
   "source": [
    "## Create Single-qubit Clifford Group "
   ]
  },
  {
   "cell_type": "markdown",
   "metadata": {},
   "source": [
    "We now create the single-qubit Clifford group, using the XY-decomposition"
   ]
  },
  {
   "cell_type": "markdown",
   "metadata": {},
   "source": []
  },
  {
   "cell_type": "markdown",
   "metadata": {},
   "source": [
    "## Simulate over sequence lengths"
   ]
  },
  {
   "cell_type": "code",
   "execution_count": null,
   "metadata": {},
   "outputs": [
    {
     "name": "stdout",
     "output_type": "stream",
     "text": [
      "[0.9966136094208787]\n"
     ]
    }
   ],
   "source": [
    "import random\n",
    "\n",
    "num_cliffords = 24\n",
    "\n",
    "# loop over seqneuce lengths\n",
    "# sequence_lengths = [8, 16, 32, 64, 128, 256, 512, 1024]\n",
    "sequence_list = [8]\n",
    "\n",
    "\n",
    "decay_rate = []\n",
    "# Loop over sequence lengths\n",
    "for sequence_length in sequence_list:\n",
    "    circuit = QubitCircuit(1) # Initialize qubit circuit\n",
    "    # Sample number of Cliffords equal to the sequence length\n",
    "    for m in range(sequence_length):\n",
    "        # Sample a Clifford from the Clifford group\n",
    "        clifford_idx = random.randint(0, num_cliffords)\n",
    "        # Add the physical decomposition of the Clifford to the circuit\n",
    "        circuit.add_gate(\"RX\", targets=0, arg_value=np.pi)\n",
    "        \n",
    "    # Add the inverse Clifford gate to the circuit\n",
    "    # ...\n",
    "    \n",
    "    # Simulate the quantum circuit and compute the probability of remaning in state |0>\n",
    "    initial_state = basis(3,0)\n",
    "    result = sarimner.run_state(init_state=initial_state, \n",
    "                                qc=circuit,\n",
    "                                e_ops=[ket2dm(basis(3,0))])\n",
    "    p0 = result.expect[0][-1]\n",
    "    decay_rate.append(p0)\n",
    "print(decay_rate)"
   ]
  },
  {
   "cell_type": "code",
   "execution_count": null,
   "metadata": {},
   "outputs": [],
   "source": [
    "from qutip_qip.circuit import QubitCircuit\n",
    "import random\n",
    "\n",
    "num_cliffords = 24\n",
    "\n",
    "# loop over seqneuce lengths\n",
    "# sequence_lengths = [8, 16, 32, 64, 128, 256, 512, 1024]\n",
    "sequence_list = [8]\n",
    "\n",
    "\n",
    "decay_rate = []\n",
    "# Loop over sequence lengths\n",
    "for sequence_length in sequence_list:\n",
    "    circuit = QubitCircuit(1)  # Initialize qubit circuit\n",
    "    # Sample number of Cliffords equal to the sequence length\n",
    "    for m in range(sequence_length):\n",
    "        # Sample a Clifford element from the Clifford group\n",
    "        \n",
    "        # Add the corresponding physical decomposition of the Clifford element to the circuit\n",
    "\n",
    "    \n",
    "    # Find and add the physical decomposition of the inverse Clifford element.\n",
    "    # ...\n",
    "\n",
    "    # Simulate the quantum circuit and compute the probability of remaning in state |0>\n",
    "    initial_state = basis(3, 0)\n",
    "    result = sarimner.run_state(\n",
    "        init_state=initial_state, qc=circuit, e_ops=[ket2dm(basis(3, 0))]\n",
    "    )\n",
    "    p0 = result.expect[0][-1]\n",
    "    decay_rate.append(p0)\n",
    "print(decay_rate)"
   ]
  }
 ],
 "metadata": {
  "kernelspec": {
   "display_name": "chalmers-qubit",
   "language": "python",
   "name": "python3"
  },
  "language_info": {
   "codemirror_mode": {
    "name": "ipython",
    "version": 3
   },
   "file_extension": ".py",
   "mimetype": "text/x-python",
   "name": "python",
   "nbconvert_exporter": "python",
   "pygments_lexer": "ipython3",
   "version": "3.9.7"
  }
 },
 "nbformat": 4,
 "nbformat_minor": 2
}
